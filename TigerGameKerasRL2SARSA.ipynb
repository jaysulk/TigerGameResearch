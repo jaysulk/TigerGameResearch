{
 "cells": [
  {
   "cell_type": "code",
   "execution_count": 2,
   "metadata": {},
   "outputs": [
    {
     "name": "stdout",
     "output_type": "stream",
     "text": [
      "pygame 2.0.0 (SDL 2.0.12, python 3.7.9)\n",
      "Hello from the pygame community. https://www.pygame.org/contribute.html\n"
     ]
    }
   ],
   "source": [
    "import gym\n",
    "import gym_pomdp\n",
    "import numpy as np\n",
    "import math, random\n",
    "from rl.agents import SARSAAgent\n",
    "from rl.policy import EpsGreedyQPolicy\n",
    "from keras.layers import Dense, Flatten\n",
    "from keras.models import Sequential\n",
    "from keras.optimizers import Adam\n",
    "env = gym.make('Tiger-v0')"
   ]
  },
  {
   "cell_type": "code",
   "execution_count": 15,
   "metadata": {},
   "outputs": [
    {
     "name": "stdout",
     "output_type": "stream",
     "text": [
      "episode 1 score -10\n",
      "episode 2 score -20\n",
      "episode 3 score -10\n",
      "episode 4 score -10\n",
      "episode 5 score -1\n",
      "episode 6 score -21\n",
      "episode 7 score -23\n",
      "episode 8 score -23\n",
      "episode 9 score 0\n",
      "episode 10 score -20\n"
     ]
    }
   ],
   "source": [
    "episodes = 10\n",
    "for episode in range(1,episodes+1):\n",
    "    # At each begining reset the game \n",
    "    state = env.reset()\n",
    "    # set done to False\n",
    "    done = False\n",
    "    # set score to 0\n",
    "    score = 0\n",
    "    # while the game is not finished\n",
    "    while not done:\n",
    "        # visualize each step\n",
    "        env.render()\n",
    "        # choose a random action\n",
    "        action = random.choice([0,1,2])\n",
    "        # execute the action\n",
    "        n_state, reward, done, info = env.step(action)\n",
    "        # keep track of rewards\n",
    "        score+=reward\n",
    "    print('episode {} score {}'.format(episode, score))"
   ]
  },
  {
   "cell_type": "code",
   "execution_count": 16,
   "metadata": {},
   "outputs": [],
   "source": [
    "def agent(states, actions):\n",
    "    model = Sequential()\n",
    "    model.add(Dense(64, input_dim=1, activation='relu'))\n",
    "    model.add(Dense(64, activation='relu'))\n",
    "    model.add(Dense(actions, activation='linear'))\n",
    "    return model\n",
    "  \n",
    "model = agent(env.observation_space.n, env.action_space.n)"
   ]
  },
  {
   "cell_type": "code",
   "execution_count": 17,
   "metadata": {},
   "outputs": [],
   "source": [
    "policy = EpsGreedyQPolicy()"
   ]
  },
  {
   "cell_type": "code",
   "execution_count": 18,
   "metadata": {},
   "outputs": [],
   "source": [
    "sarsa = SARSAAgent(model = model, policy = policy, nb_actions = env.action_space.n)"
   ]
  },
  {
   "cell_type": "code",
   "execution_count": 19,
   "metadata": {},
   "outputs": [],
   "source": [
    "sarsa.compile('adam', metrics = ['mse'])"
   ]
  },
  {
   "cell_type": "code",
   "execution_count": 20,
   "metadata": {},
   "outputs": [
    {
     "name": "stdout",
     "output_type": "stream",
     "text": [
      "Training for 50000 steps ...\n",
      "Interval 1 (0 steps performed)\n",
      "10000/10000 [==============================] - 71s 7ms/step - reward: -1.4967\n",
      "669 episodes - episode_reward: -22.350 [-120.000, 90.000] - loss: 14.537 - mse: 337.446 - mean_q: -16.275 - state: 0.544\n",
      "\n",
      "Interval 2 (10000 steps performed)\n",
      "10000/10000 [==============================] - 86s 9ms/step - reward: -1.6288\n",
      "786 episodes - episode_reward: -20.733 [-87.000, 50.000] - loss: 22.828 - mse: 441.297 - mean_q: -19.023 - state: 0.525\n",
      "\n",
      "Interval 3 (20000 steps performed)\n",
      "10000/10000 [==============================] - 71s 7ms/step - reward: -1.6728\n",
      "797 episodes - episode_reward: -21.010 [-107.000, 58.000] - loss: 20.420 - mse: 466.850 - mean_q: -17.948 - state: 0.549\n",
      "\n",
      "Interval 4 (30000 steps performed)\n",
      "10000/10000 [==============================] - 85s 8ms/step - reward: -1.0381\n",
      "808 episodes - episode_reward: -12.847 [-90.000, 206.000] - loss: 17.843 - mse: 357.803 - mean_q: -13.919 - state: 0.504\n",
      "\n",
      "Interval 5 (40000 steps performed)\n",
      "10000/10000 [==============================] - 69s 7ms/step - reward: 1.2987\n",
      "done, took 382.831 seconds\n"
     ]
    },
    {
     "data": {
      "text/plain": [
       "<tensorflow.python.keras.callbacks.History at 0x2b091496ac8>"
      ]
     },
     "execution_count": 20,
     "metadata": {},
     "output_type": "execute_result"
    }
   ],
   "source": [
    "sarsa.fit(env, nb_steps = 50000, visualize = False, verbose = 1)"
   ]
  },
  {
   "cell_type": "code",
   "execution_count": 21,
   "metadata": {},
   "outputs": [
    {
     "name": "stdout",
     "output_type": "stream",
     "text": [
      "Testing for 100 episodes ...\n",
      "Episode 1: reward: 42.000, steps: 16\n",
      "Episode 2: reward: 87.000, steps: 26\n",
      "Episode 3: reward: 159.000, steps: 42\n",
      "Episode 4: reward: 168.000, steps: 44\n",
      "Episode 5: reward: 6.000, steps: 8\n",
      "Episode 6: reward: -21.000, steps: 2\n",
      "Episode 7: reward: -12.000, steps: 4\n",
      "Episode 8: reward: 15.000, steps: 10\n",
      "Episode 9: reward: -21.000, steps: 2\n",
      "Episode 10: reward: -21.000, steps: 2\n",
      "Episode 11: reward: 60.000, steps: 20\n",
      "Episode 12: reward: -21.000, steps: 2\n",
      "Episode 13: reward: 78.000, steps: 24\n",
      "Episode 14: reward: 42.000, steps: 16\n",
      "Episode 15: reward: -12.000, steps: 4\n",
      "Episode 16: reward: 24.000, steps: 12\n",
      "Episode 17: reward: 24.000, steps: 12\n",
      "Episode 18: reward: 51.000, steps: 18\n",
      "Episode 19: reward: 60.000, steps: 20\n",
      "Episode 20: reward: 6.000, steps: 8\n",
      "Episode 21: reward: 42.000, steps: 16\n",
      "Episode 22: reward: 96.000, steps: 28\n",
      "Episode 23: reward: 6.000, steps: 8\n",
      "Episode 24: reward: 6.000, steps: 8\n",
      "Episode 25: reward: 24.000, steps: 12\n",
      "Episode 26: reward: 60.000, steps: 20\n",
      "Episode 27: reward: 6.000, steps: 8\n",
      "Episode 28: reward: 42.000, steps: 16\n",
      "Episode 29: reward: 15.000, steps: 10\n",
      "Episode 30: reward: 15.000, steps: 10\n",
      "Episode 31: reward: -21.000, steps: 2\n",
      "Episode 32: reward: 60.000, steps: 20\n",
      "Episode 33: reward: -3.000, steps: 6\n",
      "Episode 34: reward: 33.000, steps: 14\n",
      "Episode 35: reward: -3.000, steps: 6\n",
      "Episode 36: reward: 24.000, steps: 12\n",
      "Episode 37: reward: 78.000, steps: 24\n",
      "Episode 38: reward: 186.000, steps: 48\n",
      "Episode 39: reward: 132.000, steps: 36\n",
      "Episode 40: reward: 96.000, steps: 28\n",
      "Episode 41: reward: 105.000, steps: 30\n",
      "Episode 42: reward: 87.000, steps: 26\n",
      "Episode 43: reward: 6.000, steps: 8\n",
      "Episode 44: reward: -21.000, steps: 2\n",
      "Episode 45: reward: 123.000, steps: 34\n",
      "Episode 46: reward: -21.000, steps: 2\n",
      "Episode 47: reward: 96.000, steps: 28\n",
      "Episode 48: reward: 15.000, steps: 10\n",
      "Episode 49: reward: 15.000, steps: 10\n",
      "Episode 50: reward: 15.000, steps: 10\n",
      "Episode 51: reward: 33.000, steps: 14\n",
      "Episode 52: reward: 78.000, steps: 24\n",
      "Episode 53: reward: 96.000, steps: 28\n",
      "Episode 54: reward: 15.000, steps: 10\n",
      "Episode 55: reward: 69.000, steps: 22\n",
      "Episode 56: reward: -12.000, steps: 4\n",
      "Episode 57: reward: 6.000, steps: 8\n",
      "Episode 58: reward: 33.000, steps: 14\n",
      "Episode 59: reward: -21.000, steps: 2\n",
      "Episode 60: reward: -3.000, steps: 6\n",
      "Episode 61: reward: 15.000, steps: 10\n",
      "Episode 62: reward: -12.000, steps: 4\n",
      "Episode 63: reward: 60.000, steps: 20\n",
      "Episode 64: reward: -21.000, steps: 2\n",
      "Episode 65: reward: -21.000, steps: 2\n",
      "Episode 66: reward: 15.000, steps: 10\n",
      "Episode 67: reward: 96.000, steps: 28\n",
      "Episode 68: reward: 42.000, steps: 16\n",
      "Episode 69: reward: 78.000, steps: 24\n",
      "Episode 70: reward: 6.000, steps: 8\n",
      "Episode 71: reward: -3.000, steps: 6\n",
      "Episode 72: reward: 6.000, steps: 8\n",
      "Episode 73: reward: -12.000, steps: 4\n",
      "Episode 74: reward: -12.000, steps: 4\n",
      "Episode 75: reward: -21.000, steps: 2\n",
      "Episode 76: reward: 123.000, steps: 34\n",
      "Episode 77: reward: 24.000, steps: 12\n",
      "Episode 78: reward: -3.000, steps: 6\n",
      "Episode 79: reward: -21.000, steps: 2\n",
      "Episode 80: reward: -3.000, steps: 6\n",
      "Episode 81: reward: 6.000, steps: 8\n",
      "Episode 82: reward: 6.000, steps: 8\n",
      "Episode 83: reward: 33.000, steps: 14\n",
      "Episode 84: reward: -21.000, steps: 2\n",
      "Episode 85: reward: -3.000, steps: 6\n",
      "Episode 86: reward: 141.000, steps: 38\n",
      "Episode 87: reward: -21.000, steps: 2\n",
      "Episode 88: reward: -12.000, steps: 4\n",
      "Episode 89: reward: -3.000, steps: 6\n",
      "Episode 90: reward: -21.000, steps: 2\n",
      "Episode 91: reward: 15.000, steps: 10\n",
      "Episode 92: reward: -12.000, steps: 4\n",
      "Episode 93: reward: 69.000, steps: 22\n",
      "Episode 94: reward: 6.000, steps: 8\n",
      "Episode 95: reward: -12.000, steps: 4\n",
      "Episode 96: reward: 60.000, steps: 20\n",
      "Episode 97: reward: 6.000, steps: 8\n",
      "Episode 98: reward: 6.000, steps: 8\n",
      "Episode 99: reward: -21.000, steps: 2\n",
      "Episode 100: reward: -12.000, steps: 4\n",
      "Average score over 100 test games:28.68\n"
     ]
    }
   ],
   "source": [
    "scores = sarsa.test(env, nb_episodes = 100, visualize= False)\n",
    "print('Average score over 100 test games:{}'.format(np.mean(scores.history['episode_reward'])))"
   ]
  },
  {
   "cell_type": "code",
   "execution_count": null,
   "metadata": {},
   "outputs": [],
   "source": []
  }
 ],
 "metadata": {
  "kernelspec": {
   "display_name": "Python 3",
   "language": "python",
   "name": "python3"
  },
  "language_info": {
   "codemirror_mode": {
    "name": "ipython",
    "version": 3
   },
   "file_extension": ".py",
   "mimetype": "text/x-python",
   "name": "python",
   "nbconvert_exporter": "python",
   "pygments_lexer": "ipython3",
   "version": "3.7.9"
  }
 },
 "nbformat": 4,
 "nbformat_minor": 4
}
