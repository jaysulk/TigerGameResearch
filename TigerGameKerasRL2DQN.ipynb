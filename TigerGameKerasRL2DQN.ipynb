{
 "cells": [
  {
   "cell_type": "code",
   "execution_count": 38,
   "metadata": {},
   "outputs": [],
   "source": [
    "import gym\n",
    "import gym_pomdp\n",
    "import numpy as np\n",
    "import math, random\n",
    "from rl.agents import DQNAgent\n",
    "from rl.policy import EpsGreedyQPolicy\n",
    "from rl.memory import SequentialMemory\n",
    "from keras.layers import Dense, Flatten\n",
    "from keras.models import Sequential\n",
    "from keras.optimizers import Adam\n",
    "env = gym.make('Tiger-v0')"
   ]
  },
  {
   "cell_type": "code",
   "execution_count": 23,
   "metadata": {},
   "outputs": [
    {
     "name": "stdout",
     "output_type": "stream",
     "text": [
      "episode 1 score -20\n",
      "episode 2 score -10\n",
      "episode 3 score -20\n",
      "episode 4 score -20\n",
      "episode 5 score -20\n",
      "episode 6 score -20\n",
      "episode 7 score 38\n",
      "episode 8 score -20\n",
      "episode 9 score -20\n",
      "episode 10 score -21\n"
     ]
    }
   ],
   "source": [
    "episodes = 10\n",
    "for episode in range(1,episodes+1):\n",
    "    # At each begining reset the game \n",
    "    state = env.reset()\n",
    "    # set done to False\n",
    "    done = False\n",
    "    # set score to 0\n",
    "    score = 0\n",
    "    # while the game is not finished\n",
    "    while not done:\n",
    "        # visualize each step\n",
    "        env.render()\n",
    "        # choose a random action\n",
    "        action = random.choice([0,1,2])\n",
    "        # execute the action\n",
    "        n_state, reward, done, info = env.step(action)\n",
    "        # keep track of rewards\n",
    "        score+=reward\n",
    "    print('episode {} score {}'.format(episode, score))"
   ]
  },
  {
   "cell_type": "code",
   "execution_count": 39,
   "metadata": {},
   "outputs": [],
   "source": [
    "def agent(states, actions):\n",
    "    model = Sequential()\n",
    "    model.add(Dense(64, input_dim=1, activation='relu'))\n",
    "    model.add(Dense(64, activation='relu'))\n",
    "    model.add(Dense(actions, activation='linear'))\n",
    "    return model\n",
    "  \n",
    "model = agent(env.observation_space.n, env.action_space.n)"
   ]
  },
  {
   "cell_type": "code",
   "execution_count": 40,
   "metadata": {},
   "outputs": [],
   "source": [
    "memory = SequentialMemory(limit=50000, window_length=1)"
   ]
  },
  {
   "cell_type": "code",
   "execution_count": 41,
   "metadata": {},
   "outputs": [],
   "source": [
    "dqn = DQNAgent(model, policy=None, test_policy=None, enable_double_dqn=True, enable_dueling_network=False, dueling_type='avg', nb_actions = env.action_space.n, memory=memory)"
   ]
  },
  {
   "cell_type": "code",
   "execution_count": 42,
   "metadata": {},
   "outputs": [],
   "source": [
    "dqn.compile('adam', metrics = ['mse'])"
   ]
  },
  {
   "cell_type": "code",
   "execution_count": 43,
   "metadata": {},
   "outputs": [
    {
     "name": "stdout",
     "output_type": "stream",
     "text": [
      "Training for 50000 steps ...\n",
      "Interval 1 (0 steps performed)\n",
      "10000/10000 [==============================] - 91s 9ms/step - reward: -1.7652\n",
      "1094 episodes - episode_reward: -16.143 [-171.000, 232.000] - loss: 37.145 - mse: 62.137 - mean_q: -0.843 - state: 0.514\n",
      "\n",
      "Interval 2 (10000 steps performed)\n",
      "10000/10000 [==============================] - 103s 10ms/step - reward: 1.5421\n",
      "990 episodes - episode_reward: 15.576 [-29.000, 311.000] - loss: 24.337 - mse: 78.175 - mean_q: 1.694 - state: 0.492\n",
      "\n",
      "Interval 3 (20000 steps performed)\n",
      "10000/10000 [==============================] - 110s 11ms/step - reward: 1.5529\n",
      "1015 episodes - episode_reward: 15.309 [-23.000, 293.000] - loss: 27.060 - mse: 76.689 - mean_q: 3.812 - state: 0.498\n",
      "\n",
      "Interval 4 (30000 steps performed)\n",
      "10000/10000 [==============================] - 115s 11ms/step - reward: 1.5996\n",
      "1002 episodes - episode_reward: 15.964 [-22.000, 276.000] - loss: 35.155 - mse: 75.782 - mean_q: 5.721 - state: 0.504\n",
      "\n",
      "Interval 5 (40000 steps performed)\n",
      "10000/10000 [==============================] - 115s 12ms/step - reward: 1.4150\n",
      "done, took 533.771 seconds\n"
     ]
    },
    {
     "data": {
      "text/plain": [
       "<tensorflow.python.keras.callbacks.History at 0x2b093527e88>"
      ]
     },
     "execution_count": 43,
     "metadata": {},
     "output_type": "execute_result"
    }
   ],
   "source": [
    "dqn.fit(env, nb_steps = 50000, visualize = False, verbose = 1)"
   ]
  },
  {
   "cell_type": "code",
   "execution_count": 44,
   "metadata": {},
   "outputs": [
    {
     "name": "stdout",
     "output_type": "stream",
     "text": [
      "Testing for 100 episodes ...\n",
      "Episode 1: reward: 33.000, steps: 14\n",
      "Episode 2: reward: 96.000, steps: 28\n",
      "Episode 3: reward: 24.000, steps: 12\n",
      "Episode 4: reward: 6.000, steps: 8\n",
      "Episode 5: reward: 6.000, steps: 8\n",
      "Episode 6: reward: 150.000, steps: 40\n",
      "Episode 7: reward: 150.000, steps: 40\n",
      "Episode 8: reward: -12.000, steps: 4\n",
      "Episode 9: reward: 24.000, steps: 12\n",
      "Episode 10: reward: -3.000, steps: 6\n",
      "Episode 11: reward: -12.000, steps: 4\n",
      "Episode 12: reward: 24.000, steps: 12\n",
      "Episode 13: reward: 51.000, steps: 18\n",
      "Episode 14: reward: -3.000, steps: 6\n",
      "Episode 15: reward: -21.000, steps: 2\n",
      "Episode 16: reward: 150.000, steps: 40\n",
      "Episode 17: reward: 285.000, steps: 70\n",
      "Episode 18: reward: 42.000, steps: 16\n",
      "Episode 19: reward: 87.000, steps: 26\n",
      "Episode 20: reward: 15.000, steps: 10\n",
      "Episode 21: reward: -21.000, steps: 2\n",
      "Episode 22: reward: 15.000, steps: 10\n",
      "Episode 23: reward: -21.000, steps: 2\n",
      "Episode 24: reward: 168.000, steps: 44\n",
      "Episode 25: reward: 24.000, steps: 12\n",
      "Episode 26: reward: -12.000, steps: 4\n",
      "Episode 27: reward: -12.000, steps: 4\n",
      "Episode 28: reward: -3.000, steps: 6\n",
      "Episode 29: reward: -21.000, steps: 2\n",
      "Episode 30: reward: 87.000, steps: 26\n",
      "Episode 31: reward: 60.000, steps: 20\n",
      "Episode 32: reward: -3.000, steps: 6\n",
      "Episode 33: reward: 123.000, steps: 34\n",
      "Episode 34: reward: 105.000, steps: 30\n",
      "Episode 35: reward: 51.000, steps: 18\n",
      "Episode 36: reward: -12.000, steps: 4\n",
      "Episode 37: reward: -21.000, steps: 2\n",
      "Episode 38: reward: -21.000, steps: 2\n",
      "Episode 39: reward: 276.000, steps: 68\n",
      "Episode 40: reward: 78.000, steps: 24\n",
      "Episode 41: reward: 33.000, steps: 14\n",
      "Episode 42: reward: 78.000, steps: 24\n",
      "Episode 43: reward: -21.000, steps: 2\n",
      "Episode 44: reward: 78.000, steps: 24\n",
      "Episode 45: reward: 6.000, steps: 8\n",
      "Episode 46: reward: -3.000, steps: 6\n",
      "Episode 47: reward: 87.000, steps: 26\n",
      "Episode 48: reward: 114.000, steps: 32\n",
      "Episode 49: reward: -12.000, steps: 4\n",
      "Episode 50: reward: 96.000, steps: 28\n",
      "Episode 51: reward: 42.000, steps: 16\n",
      "Episode 52: reward: 51.000, steps: 18\n",
      "Episode 53: reward: 87.000, steps: 26\n",
      "Episode 54: reward: 60.000, steps: 20\n",
      "Episode 55: reward: -12.000, steps: 4\n",
      "Episode 56: reward: -21.000, steps: 2\n",
      "Episode 57: reward: 6.000, steps: 8\n",
      "Episode 58: reward: 240.000, steps: 60\n",
      "Episode 59: reward: 195.000, steps: 50\n",
      "Episode 60: reward: -12.000, steps: 4\n",
      "Episode 61: reward: -21.000, steps: 2\n",
      "Episode 62: reward: -3.000, steps: 6\n",
      "Episode 63: reward: -21.000, steps: 2\n",
      "Episode 64: reward: -12.000, steps: 4\n",
      "Episode 65: reward: -21.000, steps: 2\n",
      "Episode 66: reward: -12.000, steps: 4\n",
      "Episode 67: reward: 24.000, steps: 12\n",
      "Episode 68: reward: 51.000, steps: 18\n",
      "Episode 69: reward: 6.000, steps: 8\n",
      "Episode 70: reward: 24.000, steps: 12\n",
      "Episode 71: reward: 42.000, steps: 16\n",
      "Episode 72: reward: -12.000, steps: 4\n",
      "Episode 73: reward: -3.000, steps: 6\n",
      "Episode 74: reward: 33.000, steps: 14\n",
      "Episode 75: reward: -21.000, steps: 2\n",
      "Episode 76: reward: 6.000, steps: 8\n",
      "Episode 77: reward: 15.000, steps: 10\n",
      "Episode 78: reward: 150.000, steps: 40\n",
      "Episode 79: reward: -3.000, steps: 6\n",
      "Episode 80: reward: 15.000, steps: 10\n",
      "Episode 81: reward: -12.000, steps: 4\n",
      "Episode 82: reward: 15.000, steps: 10\n",
      "Episode 83: reward: 60.000, steps: 20\n",
      "Episode 84: reward: 33.000, steps: 14\n",
      "Episode 85: reward: 42.000, steps: 16\n",
      "Episode 86: reward: 51.000, steps: 18\n",
      "Episode 87: reward: 96.000, steps: 28\n",
      "Episode 88: reward: -12.000, steps: 4\n",
      "Episode 89: reward: -12.000, steps: 4\n",
      "Episode 90: reward: -3.000, steps: 6\n",
      "Episode 91: reward: -12.000, steps: 4\n",
      "Episode 92: reward: 42.000, steps: 16\n",
      "Episode 93: reward: -12.000, steps: 4\n",
      "Episode 94: reward: 24.000, steps: 12\n",
      "Episode 95: reward: 123.000, steps: 34\n",
      "Episode 96: reward: -21.000, steps: 2\n",
      "Episode 97: reward: 6.000, steps: 8\n",
      "Episode 98: reward: 132.000, steps: 36\n",
      "Episode 99: reward: 69.000, steps: 22\n",
      "Episode 100: reward: -21.000, steps: 2\n",
      "Average score over 100 test games:38.49\n"
     ]
    }
   ],
   "source": [
    "scores = dqn.test(env, nb_episodes = 100, visualize= False)\n",
    "print('Average score over 100 test games:{}'.format(np.mean(scores.history['episode_reward'])))"
   ]
  },
  {
   "cell_type": "code",
   "execution_count": null,
   "metadata": {},
   "outputs": [],
   "source": []
  }
 ],
 "metadata": {
  "kernelspec": {
   "display_name": "Python 3",
   "language": "python",
   "name": "python3"
  },
  "language_info": {
   "codemirror_mode": {
    "name": "ipython",
    "version": 3
   },
   "file_extension": ".py",
   "mimetype": "text/x-python",
   "name": "python",
   "nbconvert_exporter": "python",
   "pygments_lexer": "ipython3",
   "version": "3.7.9"
  }
 },
 "nbformat": 4,
 "nbformat_minor": 4
}
