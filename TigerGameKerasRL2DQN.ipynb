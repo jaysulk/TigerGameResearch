{
 "cells": [
  {
   "cell_type": "code",
   "execution_count": 112,
   "metadata": {},
   "outputs": [],
   "source": [
    "import gym\n",
    "import gym_pomdp\n",
    "import numpy as np\n",
    "import pandas as pd\n",
    "import math, random\n",
    "from rl.agents import DQNAgent\n",
    "from rl.memory import SequentialMemory\n",
    "from rl.policy import EpsGreedyQPolicy\n",
    "from keras.layers import Dense\n",
    "from keras.models import Sequential\n",
    "from keras.optimizers import Adam\n",
    "from scores.score_logger import ScoreLogger\n",
    "env = gym.make('Tiger-v0')"
   ]
  },
  {
   "cell_type": "code",
   "execution_count": 133,
   "metadata": {},
   "outputs": [],
   "source": [
    "def agent(states, actions):\n",
    "    model = Sequential()\n",
    "    model.add(Dense(24, input_shape=(env.observation_space.n,), activation=\"relu\"))\n",
    "    model.add(Dense(24, activation=\"relu\"))\n",
    "    model.add(Dense(env.action_space.n, activation=\"linear\"))\n",
    "    return model\n",
    "model = agent(env.observation_space.n, env.action_space.n)"
   ]
  },
  {
   "cell_type": "code",
   "execution_count": 141,
   "metadata": {},
   "outputs": [],
   "source": [
    "memory = SequentialMemory(limit=50000, window_length=3)"
   ]
  },
  {
   "cell_type": "code",
   "execution_count": 142,
   "metadata": {},
   "outputs": [],
   "source": [
    "dqn = DQNAgent(model, policy= EpsGreedyQPolicy(), test_policy=None, enable_double_dqn=True, enable_dueling_network=True, dueling_type='avg', nb_actions = env.action_space.n, memory=memory)"
   ]
  },
  {
   "cell_type": "code",
   "execution_count": 143,
   "metadata": {},
   "outputs": [],
   "source": [
    "dqn.compile(optimizer=Adam(lr=0.001))"
   ]
  },
  {
   "cell_type": "code",
   "execution_count": 148,
   "metadata": {},
   "outputs": [
    {
     "name": "stdout",
     "output_type": "stream",
     "text": [
      "Training for 100000 steps ...\n",
      "Interval 1 (0 steps performed)\n",
      "10000/10000 [==============================] - 138s 14ms/step - reward: 1.2542\n",
      "694 episodes - episode_reward: 18.063 [-24.000, 263.000] - loss: 39.406 - mean_q: 10.643 - state: 0.479\n",
      "\n",
      "Interval 2 (10000 steps performed)\n",
      "10000/10000 [==============================] - 162s 16ms/step - reward: 1.3451\n",
      "700 episodes - episode_reward: 19.147 [-27.000, 223.000] - loss: 39.458 - mean_q: 12.111 - state: 0.535\n",
      "\n",
      "Interval 3 (20000 steps performed)\n",
      "10000/10000 [==============================] - 171s 17ms/step - reward: 1.2177\n",
      "499 episodes - episode_reward: 24.515 [-25.000, 336.000] - loss: 37.604 - mean_q: 13.829 - state: 0.527\n",
      "\n",
      "Interval 4 (30000 steps performed)\n",
      "10000/10000 [==============================] - 164s 16ms/step - reward: 1.1965\n",
      "553 episodes - episode_reward: 21.537 [-25.000, 298.000] - loss: 36.719 - mean_q: 15.257 - state: 0.542\n",
      "\n",
      "Interval 5 (40000 steps performed)\n",
      "10000/10000 [==============================] - 180s 18ms/step - reward: 1.4020\n",
      "589 episodes - episode_reward: 23.893 [-25.000, 305.000] - loss: 36.311 - mean_q: 16.743 - state: 0.493\n",
      "\n",
      "Interval 6 (50000 steps performed)\n",
      "10000/10000 [==============================] - 165s 17ms/step - reward: 1.1908\n",
      "468 episodes - episode_reward: 25.308 [-25.000, 339.000] - loss: 34.126 - mean_q: 18.235 - state: 0.492\n",
      "\n",
      "Interval 7 (60000 steps performed)\n",
      "10000/10000 [==============================] - 155s 16ms/step - reward: 1.1575\n",
      "434 episodes - episode_reward: 26.320 [-29.000, 212.000] - loss: 31.924 - mean_q: 19.953 - state: 0.494\n",
      "\n",
      "Interval 8 (70000 steps performed)\n",
      "10000/10000 [==============================] - 161s 16ms/step - reward: 1.1911\n",
      "491 episodes - episode_reward: 24.648 [-26.000, 270.000] - loss: 32.364 - mean_q: 20.988 - state: 0.480\n",
      "\n",
      "Interval 9 (80000 steps performed)\n",
      "10000/10000 [==============================] - 155s 15ms/step - reward: 1.0128\n",
      "476 episodes - episode_reward: 21.336 [-26.000, 355.000] - loss: 32.268 - mean_q: 22.229 - state: 0.504\n",
      "\n",
      "Interval 10 (90000 steps performed)\n",
      "10000/10000 [==============================] - 176s 18ms/step - reward: 1.2098\n",
      "done, took 1627.940 seconds\n"
     ]
    },
    {
     "data": {
      "text/plain": [
       "<tensorflow.python.keras.callbacks.History at 0x1bcd35be3c8>"
      ]
     },
     "execution_count": 148,
     "metadata": {},
     "output_type": "execute_result"
    }
   ],
   "source": [
    "dqn.fit(env, nb_steps = 100000, visualize = False, verbose = 1)"
   ]
  },
  {
   "cell_type": "code",
   "execution_count": 149,
   "metadata": {},
   "outputs": [
    {
     "name": "stdout",
     "output_type": "stream",
     "text": [
      "Testing for 100 episodes ...\n",
      "Episode 1: reward: -22.000, steps: 3\n",
      "Episode 2: reward: 104.000, steps: 64\n",
      "Episode 3: reward: 181.000, steps: 97\n",
      "Episode 4: reward: 280.000, steps: 141\n",
      "Episode 5: reward: 91.000, steps: 55\n",
      "Episode 6: reward: 158.000, steps: 87\n",
      "Episode 7: reward: 30.000, steps: 39\n",
      "Episode 8: reward: 15.000, steps: 21\n",
      "Episode 9: reward: 163.000, steps: 82\n",
      "Episode 10: reward: 267.000, steps: 165\n",
      "Episode 11: reward: 151.000, steps: 83\n",
      "Episode 12: reward: 167.000, steps: 89\n",
      "Episode 13: reward: -6.000, steps: 9\n",
      "Episode 14: reward: -6.000, steps: 9\n",
      "Episode 15: reward: -22.000, steps: 3\n",
      "Episode 16: reward: 444.000, steps: 230\n",
      "Episode 17: reward: -14.000, steps: 17\n",
      "Episode 18: reward: 571.000, steps: 290\n",
      "Episode 19: reward: 2.000, steps: 23\n",
      "Episode 20: reward: 56.000, steps: 35\n",
      "Episode 21: reward: 313.000, steps: 174\n",
      "Episode 22: reward: 32.000, steps: 26\n",
      "Episode 23: reward: 30.000, steps: 28\n",
      "Episode 24: reward: 204.000, steps: 118\n",
      "Episode 25: reward: 179.000, steps: 99\n",
      "Episode 26: reward: 157.000, steps: 88\n",
      "Episode 27: reward: 74.000, steps: 61\n",
      "Episode 28: reward: 214.000, steps: 119\n",
      "Episode 29: reward: -1.000, steps: 15\n",
      "Episode 30: reward: 190.000, steps: 110\n",
      "Episode 31: reward: 149.000, steps: 85\n",
      "Episode 32: reward: 619.000, steps: 330\n",
      "Episode 33: reward: -1.000, steps: 15\n",
      "Episode 34: reward: 183.000, steps: 95\n",
      "Episode 35: reward: -12.000, steps: 26\n",
      "Episode 36: reward: -17.000, steps: 20\n",
      "Episode 37: reward: 135.000, steps: 77\n",
      "Episode 38: reward: 18.000, steps: 18\n",
      "Episode 39: reward: 305.000, steps: 171\n",
      "Episode 40: reward: 273.000, steps: 137\n",
      "Episode 41: reward: -22.000, steps: 3\n",
      "Episode 42: reward: 64.000, steps: 49\n",
      "Episode 43: reward: 115.000, steps: 64\n",
      "Episode 44: reward: 18.000, steps: 29\n",
      "Episode 45: reward: 338.000, steps: 193\n",
      "Episode 46: reward: 656.000, steps: 348\n",
      "Episode 47: reward: 201.000, steps: 110\n",
      "Episode 48: reward: 15.000, steps: 21\n",
      "Episode 49: reward: 139.000, steps: 84\n",
      "Episode 50: reward: 252.000, steps: 147\n",
      "Episode 51: reward: 113.000, steps: 66\n",
      "Episode 52: reward: 106.000, steps: 73\n",
      "Episode 53: reward: 225.000, steps: 130\n",
      "Episode 54: reward: 175.000, steps: 103\n",
      "Episode 55: reward: 74.000, steps: 50\n",
      "Episode 56: reward: 95.000, steps: 51\n",
      "Episode 57: reward: -6.000, steps: 9\n",
      "Episode 58: reward: 171.000, steps: 96\n",
      "Episode 59: reward: 57.000, steps: 45\n",
      "Episode 60: reward: -7.000, steps: 10\n",
      "Episode 61: reward: 135.000, steps: 77\n",
      "Episode 62: reward: 262.000, steps: 137\n",
      "Episode 63: reward: 102.000, steps: 88\n",
      "Episode 64: reward: 283.000, steps: 182\n",
      "Episode 65: reward: 46.000, steps: 34\n",
      "Episode 66: reward: 185.000, steps: 93\n",
      "Episode 67: reward: -22.000, steps: 3\n",
      "Episode 68: reward: 36.000, steps: 33\n",
      "Episode 69: reward: -14.000, steps: 6\n",
      "Episode 70: reward: 27.000, steps: 31\n",
      "Episode 71: reward: 56.000, steps: 35\n",
      "Episode 72: reward: 268.000, steps: 153\n",
      "Episode 73: reward: 373.000, steps: 191\n",
      "Episode 74: reward: 187.000, steps: 102\n",
      "Episode 75: reward: 57.000, steps: 45\n",
      "Episode 76: reward: -23.000, steps: 4\n",
      "Episode 77: reward: 191.000, steps: 120\n",
      "Episode 78: reward: 94.000, steps: 52\n",
      "Episode 79: reward: 324.000, steps: 163\n",
      "Episode 80: reward: 30.000, steps: 28\n",
      "Episode 81: reward: 8.000, steps: 28\n",
      "Episode 82: reward: 88.000, steps: 58\n",
      "Episode 83: reward: 201.000, steps: 121\n",
      "Episode 84: reward: 53.000, steps: 38\n",
      "Episode 85: reward: 59.000, steps: 54\n",
      "Episode 86: reward: 88.000, steps: 69\n",
      "Episode 87: reward: 557.000, steps: 271\n",
      "Episode 88: reward: 109.000, steps: 70\n",
      "Episode 89: reward: 19.000, steps: 28\n",
      "Episode 90: reward: 287.000, steps: 167\n",
      "Episode 91: reward: 59.000, steps: 43\n",
      "Episode 92: reward: 246.000, steps: 131\n",
      "Episode 93: reward: 135.000, steps: 77\n",
      "Episode 94: reward: 200.000, steps: 100\n",
      "Episode 95: reward: 189.000, steps: 111\n",
      "Episode 96: reward: 497.000, steps: 276\n",
      "Episode 97: reward: 204.000, steps: 107\n",
      "Episode 98: reward: 33.000, steps: 36\n",
      "Episode 99: reward: 209.000, steps: 135\n",
      "Episode 100: reward: 37.000, steps: 43\n",
      "Average score over 100 test games:143.08\n"
     ]
    }
   ],
   "source": [
    "scores = dqn.test(env, nb_episodes = 100, visualize= False)\n",
    "print('Average score over 100 test games:{}'.format(np.mean(scores.history['episode_reward'])))"
   ]
  },
  {
   "cell_type": "code",
   "execution_count": 150,
   "metadata": {},
   "outputs": [],
   "source": [
    "df=pd.DataFrame.from_dict(scores.history)"
   ]
  },
  {
   "cell_type": "code",
   "execution_count": 151,
   "metadata": {},
   "outputs": [
    {
     "data": {
      "image/png": "[encoded data removed]",
      "text/plain": [
       "<Figure size 432x288 with 1 Axes>"
      ]
     },
     "metadata": {
      "needs_background": "light"
     },
     "output_type": "display_data"
    }
   ],
   "source": [
    "ax = df['episode_reward'].plot.hist(bins=25, alpha=0.5)"
   ]
  },
  {
   "cell_type": "code",
   "execution_count": null,
   "metadata": {},
   "outputs": [],
   "source": []
  }
 ],
 "metadata": {
  "kernelspec": {
   "display_name": "Python 3",
   "language": "python",
   "name": "python3"
  },
  "language_info": {
   "codemirror_mode": {
    "name": "ipython",
    "version": 3
   },
   "file_extension": ".py",
   "mimetype": "text/x-python",
   "name": "python",
   "nbconvert_exporter": "python",
   "pygments_lexer": "ipython3",
   "version": "3.7.9"
  }
 },
 "nbformat": 4,
 "nbformat_minor": 4
}
